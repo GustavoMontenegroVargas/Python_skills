{
 "cells": [
  {
   "cell_type": "markdown",
   "metadata": {},
   "source": [
    "Este programa de python combina el cliente de TD con pytd y un query de expresiones regulares para obtener una LISTA ÚNICA de los caracteres especiales que no son parte de una palabra.\n",
    "\n",
    "Este caso puede ser ocupado para realizar un exploratory data analysis sobre los casos excepcionales que pueden ser remplazados. Por ejemplo, en la validación de nombres, AGRUPANDO CASOS POR CARACTERES ESPECIALES."
   ]
  },
  {
   "cell_type": "code",
   "execution_count": 1,
   "metadata": {},
   "outputs": [],
   "source": [
    "import pytd\n",
    "import pandas as pd\n",
    "client = pytd.Client(\n",
    "apikey='', #Insert your API key.\n",
    "database='src',\n",
    "default_engine='presto'\n",
    ")"
   ]
  },
  {
   "cell_type": "code",
   "execution_count": 39,
   "metadata": {},
   "outputs": [
    {
     "data": {
      "text/html": [
       "<div>\n",
       "<style scoped>\n",
       "    .dataframe tbody tr th:only-of-type {\n",
       "        vertical-align: middle;\n",
       "    }\n",
       "\n",
       "    .dataframe tbody tr th {\n",
       "        vertical-align: top;\n",
       "    }\n",
       "\n",
       "    .dataframe thead th {\n",
       "        text-align: right;\n",
       "    }\n",
       "</style>\n",
       "<table border=\"1\" class=\"dataframe\">\n",
       "  <thead>\n",
       "    <tr style=\"text-align: right;\">\n",
       "      <th></th>\n",
       "      <th>other</th>\n",
       "    </tr>\n",
       "  </thead>\n",
       "  <tbody>\n",
       "    <tr>\n",
       "      <th>0</th>\n",
       "      <td>[]</td>\n",
       "    </tr>\n",
       "    <tr>\n",
       "      <th>1</th>\n",
       "      <td>[\u001a, \u001a]</td>\n",
       "    </tr>\n",
       "    <tr>\n",
       "      <th>2</th>\n",
       "      <td>[\"]</td>\n",
       "    </tr>\n",
       "    <tr>\n",
       "      <th>3</th>\n",
       "      <td>[\", \"]</td>\n",
       "    </tr>\n",
       "    <tr>\n",
       "      <th>4</th>\n",
       "      <td>[\", \", \", \"]</td>\n",
       "    </tr>\n",
       "  </tbody>\n",
       "</table>\n",
       "</div>"
      ],
      "text/plain": [
       "          other\n",
       "0            []\n",
       "1        [\u001a, \u001a]\n",
       "2           [\"]\n",
       "3        [\", \"]\n",
       "4  [\", \", \", \"]"
      ]
     },
     "execution_count": 39,
     "metadata": {},
     "output_type": "execute_result"
    }
   ],
   "source": [
    "#This query gets a list of lists where we have all non-word characters\n",
    "#This results gets all the patterns and all possible values.\n",
    "res = client.query(\n",
    "    \"\"\"\n",
    "    select distinct REGEXP_EXTRACT_ALL(nombre_cte, '[^a-zA-Z\\s\\á\\é\\í\\ó\\ú\\Á\\É\\Í\\Ó\\Ú\\ü\\Ü\\ñ\\Ñ]') as other\n",
    "    from nvdr_history\n",
    "    order by other asc\n",
    "    \"\"\",engine = 'presto'\n",
    ")\n",
    "df = pd.DataFrame(**res)\n",
    "df.head()"
   ]
  },
  {
   "cell_type": "code",
   "execution_count": 55,
   "metadata": {},
   "outputs": [
    {
     "name": "stdout",
     "output_type": "stream",
     "text": [
      "This is the new length of the special characters list 36\n"
     ]
    }
   ],
   "source": [
    "#In this part we are going to unpack the values only in one list\n",
    "# This works for regular nested list with list comprehension.\n",
    "# https://appdividend.com/2022/06/17/how-to-flatten-list-in-python/\n",
    "flatten_list = [element for sublist in df['other'] for element in sublist]\n",
    "Special_characters = list(set(flatten_list)) #Getting the unique values into a single list.\n",
    "print('This is the new length of the special characters list',len(Special_characters))\n",
    "Special_characters.sort()\n"
   ]
  },
  {
   "cell_type": "code",
   "execution_count": 58,
   "metadata": {},
   "outputs": [
    {
     "name": "stdout",
     "output_type": "stream",
     "text": [
      "['\\x1a', '\"', '#', '%', '&', \"'\", '(', ')', '*', '+', ',', '-', '.', '/', '0', '1', '2', '3', '4', '5', '6', '7', '8', '9', ':', ';', '<', '@', '_', '`', '|', '}', 'Ƭ', '‡', '‹', '�']\n"
     ]
    }
   ],
   "source": [
    "#Here we have the special characters in a sorted way.\n",
    "print(Special_characters)"
   ]
  }
 ],
 "metadata": {
  "kernelspec": {
   "display_name": "Python 3.8.9 64-bit",
   "language": "python",
   "name": "python3"
  },
  "language_info": {
   "codemirror_mode": {
    "name": "ipython",
    "version": 3
   },
   "file_extension": ".py",
   "mimetype": "text/x-python",
   "name": "python",
   "nbconvert_exporter": "python",
   "pygments_lexer": "ipython3",
   "version": "3.8.9"
  },
  "orig_nbformat": 4,
  "vscode": {
   "interpreter": {
    "hash": "31f2aee4e71d21fbe5cf8b01ff0e069b9275f58929596ceb00d14d90e3e16cd6"
   }
  }
 },
 "nbformat": 4,
 "nbformat_minor": 2
}
