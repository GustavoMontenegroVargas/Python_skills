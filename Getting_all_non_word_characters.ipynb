{
 "cells": [
  {
   "cell_type": "markdown",
   "metadata": {},
   "source": [
    "Obtener non-word characters únicos en una columna específica – Pytd & Regexp \n",
    "\n",
    "- Este programa de python, combina pytd y un query de expresiones regulares que obtiene una lista única de los caracteres especiales que no son parte de una palabra.  \n",
    "\n",
    "- La salida es una lista de valores únicos. \n",
    "\n",
    "- Este caso puede ser ocupado para indentificar, tratar y remplazar los casos excepcionales. Por ejemplo, en la validación de nombres, agrupando casos por caracteres especiales. \n",
    "\n",
    "- La expresión regular niega los caracteres comunes para un nombre.  "
   ]
  },
  {
   "cell_type": "code",
   "execution_count": 1,
   "metadata": {},
   "outputs": [],
   "source": [
    "import pytd\n",
    "import pandas as pd\n",
    "client = pytd.Client(\n",
    "apikey='', #Insert your enviroment's API key.\n",
    "database='src',\n",
    "default_engine='presto'\n",
    ")"
   ]
  },
  {
   "cell_type": "code",
   "execution_count": 2,
   "metadata": {},
   "outputs": [
    {
     "name": "stdout",
     "output_type": "stream",
     "text": [
      "          other\n",
      "0            []\n",
      "1        [\u001a, \u001a]\n",
      "2           [\"]\n",
      "3        [\", \"]\n",
      "4  [\", \", \", \"]\n"
     ]
    }
   ],
   "source": [
    "#Define the name of the table that you want to analyze\n",
    "\n",
    "table_name = 'nvdr_history'\n",
    "\n",
    "#This query gets the number of records with non-word characters\n",
    "#We will use these special characters as part of our regular expression when the enconding format be solved. We will exclude them.\n",
    "#\\á\\é\\í\\ó\\ú\\Á\\É\\Í\\Ó\\Ú\\ü\\Ü\\ñ\\Ñ\n",
    "\n",
    "res0= client.query(\n",
    "    f\"\"\"\n",
    "    select count(distinct (nombre_cte)) as unique_non_word_records\n",
    "    from {table_name}\n",
    "    where REGEXP_LIKE(nombre_cte,'^[a-zA-Z\\s]*$') = False\n",
    "\n",
    "    \"\"\",engine = 'presto'\n",
    ")\n",
    "df0 = pd.DataFrame(**res0) \n",
    "\n",
    "#This query gets a list of lists where we have all non-word characters\n",
    "#This results gets all the patterns and all possible values.\n",
    "\n",
    "#We will use these special characters as part of our regular expression when the enconding format be solved. We will exclude them.\n",
    "#\\á\\é\\í\\ó\\ú\\Á\\É\\Í\\Ó\\Ú\\ü\\Ü\\ñ\\Ñ\n",
    "\n",
    "res = client.query(\n",
    "    f\"\"\"\n",
    "    select distinct REGEXP_EXTRACT_ALL(nombre_cte, '[^a-zA-Z\\s]') as other\n",
    "    from {table_name}\n",
    "    order by other asc\n",
    "\n",
    "    \"\"\",engine = 'presto'\n",
    ")\n",
    "df = pd.DataFrame(**res)\n",
    "\n",
    "print(df.head()) #The list of lists for non_characters frequency"
   ]
  },
  {
   "cell_type": "code",
   "execution_count": 3,
   "metadata": {},
   "outputs": [],
   "source": [
    "#In this part we are going to unpack the values only in one list\n",
    "# This works for regular nested list with list comprehension.\n",
    "# https://appdividend.com/2022/06/17/how-to-flatten-list-in-python/\n",
    "\n",
    "flatten_list = [element for sublist in df['other'] for element in sublist]\n",
    "Special_characters = list(set(flatten_list)) #Getting the unique values into a single list.\n",
    "Special_characters.sort()\n",
    "\n",
    "#Finding missing values in the special characters list.\n",
    "\n",
    "Missing_characters = ['á','é','í','ó','ú','Á','É','Í','Ó','Ú','ü','Ü','ñ','Ñ']\n",
    "Found_characters = [value for value in Missing_characters if value in Special_characters]\n",
    "\n"
   ]
  },
  {
   "cell_type": "code",
   "execution_count": 4,
   "metadata": {},
   "outputs": [
    {
     "name": "stdout",
     "output_type": "stream",
     "text": [
      "1) Number of unique non_word characters records: 29140\n",
      "2) Length of the special characters list: 36\n",
      "3) List of non_word characters: ['\\x1a', '\"', '#', '%', '&', \"'\", '(', ')', '*', '+', ',', '-', '.', '/', '0', '1', '2', '3', '4', '5', '6', '7', '8', '9', ':', ';', '<', '@', '_', '`', '|', '}', 'Ƭ', '‡', '‹', '�']\n",
      "4) Found characters: []\n",
      "\n",
      "\n",
      "NOTE: When the enconding format be solved, we will use these special characters as part of our regular expression to exclude them: \\á\\é\\í\\ó\\ú\\Á\\É\\Í\\Ó\\Ú\\ü\\Ü\\ñ\\Ñ\n"
     ]
    }
   ],
   "source": [
    "#Here we have the special characters in a sorted way.\n",
    "\n",
    "print(f'1) Number of unique non_word characters records: {df0.iloc[0][0]}')\n",
    "print(f'2) Length of the special characters list: {len(Special_characters)}')\n",
    "print(f'3) List of non_word characters: {Special_characters}')\n",
    "print(f'4) Found characters: {Found_characters}')\n",
    "print('\\n')\n",
    "print('NOTE: When the enconding format be solved, we will use these special characters as part of our regular expression to exclude them: \\á\\é\\í\\ó\\ú\\Á\\É\\Í\\Ó\\Ú\\ü\\Ü\\ñ\\Ñ')"
   ]
  }
 ],
 "metadata": {
  "kernelspec": {
   "display_name": "Python 3.8.9 64-bit",
   "language": "python",
   "name": "python3"
  },
  "language_info": {
   "codemirror_mode": {
    "name": "ipython",
    "version": 3
   },
   "file_extension": ".py",
   "mimetype": "text/x-python",
   "name": "python",
   "nbconvert_exporter": "python",
   "pygments_lexer": "ipython3",
   "version": "3.8.9"
  },
  "orig_nbformat": 4,
  "vscode": {
   "interpreter": {
    "hash": "31f2aee4e71d21fbe5cf8b01ff0e069b9275f58929596ceb00d14d90e3e16cd6"
   }
  }
 },
 "nbformat": 4,
 "nbformat_minor": 2
}
